{
 "cells": [
  {
   "cell_type": "code",
   "execution_count": 1,
   "id": "f75fc223-0073-4dcd-bfbb-689087ae3a44",
   "metadata": {},
   "outputs": [],
   "source": [
    "import requests\n",
    "from bs4 import BeautifulSoup"
   ]
  },
  {
   "cell_type": "code",
   "execution_count": 2,
   "id": "1b5ec590-745b-4376-9267-abf93b44b480",
   "metadata": {},
   "outputs": [],
   "source": [
    "with open('home.html', 'r') as html_file:\n",
    "    content = html_file.read()"
   ]
  },
  {
   "cell_type": "code",
   "execution_count": 15,
   "id": "e6bfd739-18ea-414d-b7fe-4b23245b20ea",
   "metadata": {},
   "outputs": [
    {
     "data": {
      "text/plain": [
       "<Response [200]>"
      ]
     },
     "execution_count": 15,
     "metadata": {},
     "output_type": "execute_result"
    }
   ],
   "source": [
    "url = \"http://127.0.0.1:5500/home.html\"\n",
    "response = requests.get(url)\n",
    "response"
   ]
  },
  {
   "cell_type": "code",
   "execution_count": 18,
   "id": "9aa579f5-60d1-4ca9-85ee-4661a579ec68",
   "metadata": {},
   "outputs": [
    {
     "data": {
      "text/plain": [
       "<!DOCTYPE html>\n",
       "\n",
       "<html lang=\"en\">\n",
       "<head>\n",
       "<meta charset=\"utf-8\"/>\n",
       "<meta content=\"width=device-width, initial-scale=1, shrink-to-fit=no\" name=\"viewport\"/>\n",
       "<link crossorigin=\"anonymous\" href=\"https://stackpath.bootstrapcdn.com/bootstrap/4.5.2/css/bootstrap.min.css\" integrity=\"sha384-JcKb8q3iqJ61gNV9KGb8thSsNjpSL0n8PARn9HuZOnIxN0hoP+VmmDGMN5t9UJ0Z\" rel=\"stylesheet\"/>\n",
       "<title>My Courses</title>\n",
       "<style>\n",
       "        body {\n",
       "            background-color: #121212;\n",
       "            color: #ffffff;\n",
       "        }\n",
       "        .card {\n",
       "            background-color: #1e1e1e;\n",
       "            color: #ffffff;\n",
       "            border: 1px solid #333333;\n",
       "            margin-bottom: 1rem;\n",
       "        }\n",
       "        .card-header {\n",
       "            background-color: #333333;\n",
       "            border-bottom: 1px solid #444444;\n",
       "        }\n",
       "        .btn-primary {\n",
       "            background-color: #0069d9;\n",
       "            border-color: #005cbf;\n",
       "        }\n",
       "        .btn-primary:hover {\n",
       "            background-color: #005cbf;\n",
       "            border-color: #004085;\n",
       "        }\n",
       "    </style>\n",
       "</head>\n",
       "<body>\n",
       "<h1>Hello, Start Learning!</h1>\n",
       "<div class=\"card\" id=\"card-python-for-beginners\">\n",
       "<div class=\"card-header\">\n",
       "            Python\n",
       "        </div>\n",
       "<div class=\"card-body\">\n",
       "<h5 class=\"card-title\">Python for beginners</h5>\n",
       "<p class=\"card-text\">If you are new to Python, this is the course that you should buy!</p>\n",
       "<a class=\"btn btn-primary\" href=\"#\">Start for 20$</a>\n",
       "</div>\n",
       "</div>\n",
       "<div class=\"card\" id=\"card-python-web-development\">\n",
       "<div class=\"card-header\">\n",
       "            Python\n",
       "        </div>\n",
       "<div class=\"card-body\">\n",
       "<h5 class=\"card-title\">Python Web Development</h5>\n",
       "<p class=\"card-text\">If you feel enough confident with python, you are ready to learn how to create your own website!</p>\n",
       "<a class=\"btn btn-primary\" href=\"#\">Start for 50$</a>\n",
       "</div>\n",
       "</div>\n",
       "<div class=\"card\" id=\"card-python-machine-learning\">\n",
       "<div class=\"card-header\">\n",
       "            Python\n",
       "        </div>\n",
       "<div class=\"card-body\">\n",
       "<h5 class=\"card-title\">Python Machine Learning</h5>\n",
       "<p class=\"card-text\">Become a Python Machine Learning master!</p>\n",
       "<a class=\"btn btn-primary\" href=\"#\">Start for 100$</a>\n",
       "</div>\n",
       "</div>\n",
       "<!-- Code injected by live-server -->\n",
       "<script>\n",
       "\t// <![CDATA[  <-- For SVG support\n",
       "\tif ('WebSocket' in window) {\n",
       "\t\t(function () {\n",
       "\t\t\tfunction refreshCSS() {\n",
       "\t\t\t\tvar sheets = [].slice.call(document.getElementsByTagName(\"link\"));\n",
       "\t\t\t\tvar head = document.getElementsByTagName(\"head\")[0];\n",
       "\t\t\t\tfor (var i = 0; i < sheets.length; ++i) {\n",
       "\t\t\t\t\tvar elem = sheets[i];\n",
       "\t\t\t\t\tvar parent = elem.parentElement || head;\n",
       "\t\t\t\t\tparent.removeChild(elem);\n",
       "\t\t\t\t\tvar rel = elem.rel;\n",
       "\t\t\t\t\tif (elem.href && typeof rel != \"string\" || rel.length == 0 || rel.toLowerCase() == \"stylesheet\") {\n",
       "\t\t\t\t\t\tvar url = elem.href.replace(/(&|\\?)_cacheOverride=\\d+/, '');\n",
       "\t\t\t\t\t\telem.href = url + (url.indexOf('?') >= 0 ? '&' : '?') + '_cacheOverride=' + (new Date().valueOf());\n",
       "\t\t\t\t\t}\n",
       "\t\t\t\t\tparent.appendChild(elem);\n",
       "\t\t\t\t}\n",
       "\t\t\t}\n",
       "\t\t\tvar protocol = window.location.protocol === 'http:' ? 'ws://' : 'wss://';\n",
       "\t\t\tvar address = protocol + window.location.host + window.location.pathname + '/ws';\n",
       "\t\t\tvar socket = new WebSocket(address);\n",
       "\t\t\tsocket.onmessage = function (msg) {\n",
       "\t\t\t\tif (msg.data == 'reload') window.location.reload();\n",
       "\t\t\t\telse if (msg.data == 'refreshcss') refreshCSS();\n",
       "\t\t\t};\n",
       "\t\t\tif (sessionStorage && !sessionStorage.getItem('IsThisFirstTime_Log_From_LiveServer')) {\n",
       "\t\t\t\tconsole.log('Live reload enabled.');\n",
       "\t\t\t\tsessionStorage.setItem('IsThisFirstTime_Log_From_LiveServer', true);\n",
       "\t\t\t}\n",
       "\t\t})();\n",
       "\t}\n",
       "\telse {\n",
       "\t\tconsole.error('Upgrade your browser. This Browser is NOT supported WebSocket for Live-Reloading.');\n",
       "\t}\n",
       "\t// ]]>\n",
       "</script>\n",
       "</body>\n",
       "</html>"
      ]
     },
     "execution_count": 18,
     "metadata": {},
     "output_type": "execute_result"
    }
   ],
   "source": [
    "soup = BeautifulSoup(response.content, \"html.parser\")\n",
    "soup"
   ]
  },
  {
   "cell_type": "code",
   "execution_count": 21,
   "id": "fd147dd3-f5b8-47c4-a60c-ef0f38724a4e",
   "metadata": {},
   "outputs": [
    {
     "data": {
      "text/plain": [
       "[<h1>Hello, Start Learning!</h1>]"
      ]
     },
     "execution_count": 21,
     "metadata": {},
     "output_type": "execute_result"
    }
   ],
   "source": [
    "h1 = soup.find_all(\"h1\")\n",
    "h1"
   ]
  },
  {
   "cell_type": "code",
   "execution_count": 23,
   "id": "4d1c61b5-db21-4fa7-a03b-3804c8a51493",
   "metadata": {},
   "outputs": [
    {
     "data": {
      "text/plain": [
       "[<div class=\"card\" id=\"card-python-for-beginners\">\n",
       " <div class=\"card-header\">\n",
       "             Python\n",
       "         </div>\n",
       " <div class=\"card-body\">\n",
       " <h5 class=\"card-title\">Python for beginners</h5>\n",
       " <p class=\"card-text\">If you are new to Python, this is the course that you should buy!</p>\n",
       " <a class=\"btn btn-primary\" href=\"#\">Start for 20$</a>\n",
       " </div>\n",
       " </div>,\n",
       " <div class=\"card\" id=\"card-python-web-development\">\n",
       " <div class=\"card-header\">\n",
       "             Python\n",
       "         </div>\n",
       " <div class=\"card-body\">\n",
       " <h5 class=\"card-title\">Python Web Development</h5>\n",
       " <p class=\"card-text\">If you feel enough confident with python, you are ready to learn how to create your own website!</p>\n",
       " <a class=\"btn btn-primary\" href=\"#\">Start for 50$</a>\n",
       " </div>\n",
       " </div>,\n",
       " <div class=\"card\" id=\"card-python-machine-learning\">\n",
       " <div class=\"card-header\">\n",
       "             Python\n",
       "         </div>\n",
       " <div class=\"card-body\">\n",
       " <h5 class=\"card-title\">Python Machine Learning</h5>\n",
       " <p class=\"card-text\">Become a Python Machine Learning master!</p>\n",
       " <a class=\"btn btn-primary\" href=\"#\">Start for 100$</a>\n",
       " </div>\n",
       " </div>]"
      ]
     },
     "execution_count": 23,
     "metadata": {},
     "output_type": "execute_result"
    }
   ],
   "source": [
    "card = soup.find_all(\"div\", class_=\"card\")\n",
    "card"
   ]
  },
  {
   "cell_type": "code",
   "execution_count": 24,
   "id": "03a6dc0a-1015-485d-a02f-af0dfbd78f6a",
   "metadata": {},
   "outputs": [
    {
     "data": {
      "text/plain": [
       "[<div class=\"card-header\">\n",
       "             Python\n",
       "         </div>,\n",
       " <div class=\"card-header\">\n",
       "             Python\n",
       "         </div>,\n",
       " <div class=\"card-header\">\n",
       "             Python\n",
       "         </div>]"
      ]
     },
     "execution_count": 24,
     "metadata": {},
     "output_type": "execute_result"
    }
   ],
   "source": [
    "cardHeader = soup.find_all(\"div\", class_=\"card-header\")\n",
    "cardHeader"
   ]
  },
  {
   "cell_type": "code",
   "execution_count": null,
   "id": "e2b1ba17-fb5a-4d18-bb6e-7b81824b7057",
   "metadata": {},
   "outputs": [],
   "source": [
    "cardTitle = soup.find_all(\"div\", class_=\"card=Title\")\n",
    "cardTitle"
   ]
  }
 ],
 "metadata": {
  "kernelspec": {
   "display_name": "Python 3 (ipykernel)",
   "language": "python",
   "name": "python3"
  },
  "language_info": {
   "codemirror_mode": {
    "name": "ipython",
    "version": 3
   },
   "file_extension": ".py",
   "mimetype": "text/x-python",
   "name": "python",
   "nbconvert_exporter": "python",
   "pygments_lexer": "ipython3",
   "version": "3.12.3"
  }
 },
 "nbformat": 4,
 "nbformat_minor": 5
}
