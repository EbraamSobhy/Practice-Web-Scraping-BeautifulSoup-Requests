{
 "cells": [
  {
   "cell_type": "code",
   "execution_count": null,
   "id": "821a1614-9e68-462f-ad61-f9b9f31eaa38",
   "metadata": {},
   "outputs": [],
   "source": []
  }
 ],
 "metadata": {
  "kernelspec": {
   "display_name": "",
   "name": ""
  },
  "language_info": {
   "name": ""
  }
 },
 "nbformat": 4,
 "nbformat_minor": 5
}
